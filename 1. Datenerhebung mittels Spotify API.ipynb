{
 "cells": [
  {
   "cell_type": "code",
   "execution_count": 1,
   "id": "d845a7b9",
   "metadata": {},
   "outputs": [],
   "source": [
    "import spotipy\n",
    "from spotipy.oauth2 import SpotifyClientCredentials\n",
    "import spotipy.util as util\n",
    "import time\n",
    "from IPython.core.display import clear_output\n",
    "\n",
    "\n",
    "cid ='74ec55c0be3c41d48da298607145034a' # Client ID; copy this from your app created on beta.developer.spotify.com\n",
    "secret = '36242f76cc524f3b95ad51e22929f9a8' # Client Secret; copy this from your app\n",
    "username = 'blendoruruci' # Your Spotify username\n",
    "\n",
    "#for avaliable scopes see https://developer.spotify.com/web-api/using-scopes/\n",
    "scope = 'user-library-read playlist-modify-public playlist-read-private'\n",
    "\n",
    "client_credentials_manager = SpotifyClientCredentials(client_id=cid, client_secret=secret)\n",
    "\n",
    "sp = spotipy.Spotify(client_credentials_manager=client_credentials_manager)\n",
    "redirect_uri='https://developer.spotify.com/dashboard/applications/74ec55c0be3c41d48da298607145034a'\n",
    "token = util.prompt_for_user_token(username, scope, cid, secret, redirect_uri)\n",
    "\n",
    "if token:\n",
    "    sp = spotipy.Spotify(auth=token)\n",
    "else:\n",
    "    print(\"Can't get token for\", username)"
   ]
  },
  {
   "cell_type": "code",
   "execution_count": 2,
   "id": "6d56a9b3",
   "metadata": {},
   "outputs": [],
   "source": [
    "#Credentials to access the Spotify Music Data\n",
    "manager = SpotifyClientCredentials(cid,secret)\n",
    "sp = spotipy.Spotify(client_credentials_manager=manager)\n",
    "\n",
    "#Credentials to access to  the Spotify User's Playlist, Favorite Songs, etc. \n",
    "token = util.prompt_for_user_token(username,scope,cid,secret,redirect_uri) \n",
    "spt = spotipy.Spotify(auth=token)"
   ]
  },
  {
   "cell_type": "code",
   "execution_count": 3,
   "id": "f8a93aef",
   "metadata": {},
   "outputs": [],
   "source": [
    "# features definieren\n",
    "def get_features(ids):\n",
    "\n",
    "    meta = sp.track(ids)\n",
    "    features = sp.audio_features(ids)\n",
    "\n",
    "    # meta\n",
    "    name = meta['name']\n",
    "    album = meta['album']['name']\n",
    "    artist = meta['album']['artists'][0]['name']\n",
    "    release_date = meta['album']['release_date']\n",
    "    length = meta['duration_ms']\n",
    "    popularity = meta['popularity']\n",
    "    ids =  meta['id']\n",
    "\n",
    "    # features\n",
    "    acousticness = features[0]['acousticness']\n",
    "    danceability = features[0]['danceability']\n",
    "    energy = features[0]['energy']\n",
    "    instrumentalness = features[0]['instrumentalness']\n",
    "    liveness = features[0]['liveness']\n",
    "    valence = features[0]['valence']\n",
    "    loudness = features[0]['loudness']\n",
    "    speechiness = features[0]['speechiness']\n",
    "    tempo = features[0]['tempo']\n",
    "    key = features[0]['key']\n",
    "    time_signature = features[0]['time_signature']\n",
    "\n",
    "    track = [name, album, artist, ids, release_date, popularity, length, danceability, acousticness,\n",
    "            energy, instrumentalness, liveness, valence, loudness, speechiness, tempo, key, time_signature]\n",
    "    columns = ['name','album','artist','id','release_date','popularity','length','danceability','acousticness','energy','instrumentalness',\n",
    "                'liveness','valence','loudness','speechiness','tempo','key','time_signature']\n",
    "    return track,columns\n",
    "\n",
    "def get_songs_artist_ids_playlist(ids):\n",
    "    playlist = sp.playlist_tracks(ids)\n",
    "    songs_id = []\n",
    "    artists_id = []\n",
    "    for result in playlist['items']:\n",
    "        songs_id.append(result['track']['id'])\n",
    "        for artist in result['track']['artists']:\n",
    "            artists_id.append(artist['id'])\n",
    "    return songs_id,artists_id\n",
    "\n",
    "\n",
    "\n",
    "def get_albums_id(ids):\n",
    "    album_ids = []\n",
    "    results = sp.artist_albums(ids)\n",
    "    for album in results['items']:\n",
    "        album_ids.append(album['id'])\n",
    "    return album_ids\n",
    "\n",
    "def download_playlist(id_playlist,n_songs):\n",
    "    songs_id = []\n",
    "    tracks = []\n",
    "\n",
    "    for i in range(0,n_songs,100):\n",
    "        playlist = spt.playlist_tracks(id_playlist,limit=100,offset=i)\n",
    "        \n",
    "        for songs in playlist['items']:\n",
    "            songs_id.append(songs['track']['id'])\n",
    "    \n",
    "    counter = 1\n",
    "    for ids in songs_id:\n",
    "        \n",
    "        time.sleep(.6)\n",
    "        track,columns = get_features(ids)\n",
    "        tracks.append(track)\n",
    "\n",
    "        print(f\"Song {counter} Added:\")\n",
    "        print(f\"{track[0]} By {track[2]} from the album {track[1]}\")\n",
    "        clear_output(wait = True)\n",
    "        counter+=1\n",
    "    \n",
    "    clear_output(wait = True)\n",
    "    print(\"Music Downloaded!\")\n",
    "\n",
    "    return tracks,columns\n",
    "\n",
    "def download_albums(music_id,artist=False):\n",
    "    \n",
    "    if artist == True:\n",
    "        ids_album = get_albums_id(music_id)\n",
    "    else:\n",
    "        if type(music_id) == list:\n",
    "            ids_album = music_id\n",
    "        elif type(music_id) == str:\n",
    "            ids_album = list([music_id])\n",
    "\n",
    "    tracks = []\n",
    "    for ids in ids_album:\n",
    "        #Obtener Ids de canciones en album\n",
    "        song_ids = get_album_songs_id(ids=ids)\n",
    "        #Obtener feautres de canciones en album\n",
    "        ids2 = song_ids\n",
    "        \n",
    "        print(f\"Album Length: {len(song_ids)}\")\n",
    "         \n",
    "        time.sleep(.6)   \n",
    "        track, columns = get_features(ids2)\n",
    "        tracks.append(track)\n",
    "\n",
    "        print(f\"Song Added: {track[0]} By {track[2]} from the album {track[1]}\")\n",
    "        clear_output(wait = True)\n",
    "        \n",
    "    clear_output(wait = True)\n",
    "    print(\"Music Downloaded!\")\n",
    " \n",
    "    return tracks,columns\n",
    "\n",
    "def get_album_songs_id(ids):\n",
    "    song_ids = []\n",
    "    results = sp.album_tracks(ids,offset=0)\n",
    "    for songs in results['items']:\n",
    "        song_ids.append(songs['id'])\n",
    "    return song_ids"
   ]
  },
  {
   "cell_type": "code",
   "execution_count": 4,
   "id": "c54b4c93",
   "metadata": {},
   "outputs": [],
   "source": [
    "from helpers import *\n",
    "from IPython.core.display import clear_output\n",
    "\n",
    "import pandas as pd\n",
    "import sqlite3\n",
    "import time"
   ]
  },
  {
   "cell_type": "markdown",
   "id": "cffe55ef",
   "metadata": {},
   "source": [
    "# HITS 70"
   ]
  },
  {
   "cell_type": "code",
   "execution_count": 5,
   "id": "130918cf",
   "metadata": {},
   "outputs": [],
   "source": [
    "#Credentials to access the Spotify Music Data\n",
    "manager = SpotifyClientCredentials(cid,secret)\n",
    "sp = spotipy.Spotify(client_credentials_manager=manager)\n",
    "\n",
    "#Credentials to access to  the Spotify User's Playlist, Favorite Songs, etc. \n",
    "token = util.prompt_for_user_token(username,scope,cid,secret,redirect_uri) \n",
    "spt = spotipy.Spotify(auth=token)"
   ]
  },
  {
   "cell_type": "code",
   "execution_count": 6,
   "id": "cbd0eb61",
   "metadata": {},
   "outputs": [
    {
     "name": "stdout",
     "output_type": "stream",
     "text": [
      "Music Downloaded!\n"
     ]
    }
   ],
   "source": [
    "tracks,columns = download_playlist('37i9dQZF1DWYP5PUsVbso9', 150)\n",
    "\n",
    "hits70_1 = pd.DataFrame(tracks,columns=columns)"
   ]
  },
  {
   "cell_type": "code",
   "execution_count": 7,
   "id": "6d47c711",
   "metadata": {},
   "outputs": [
    {
     "name": "stdout",
     "output_type": "stream",
     "text": [
      "Music Downloaded!\n"
     ]
    }
   ],
   "source": [
    "tracks,columns = download_playlist('37i9dQZF1DWTJ7xPn4vNaz', 150)\n",
    "\n",
    "hits70_2 = pd.DataFrame(tracks,columns=columns)"
   ]
  },
  {
   "cell_type": "code",
   "execution_count": 8,
   "id": "71453cf8",
   "metadata": {},
   "outputs": [
    {
     "name": "stdout",
     "output_type": "stream",
     "text": [
      "Music Downloaded!\n"
     ]
    }
   ],
   "source": [
    "tracks,columns = download_playlist('37i9dQZF1DWY373eEGlSj4', 150)\n",
    "\n",
    "hits70_3 = pd.DataFrame(tracks,columns=columns)"
   ]
  },
  {
   "cell_type": "markdown",
   "id": "dbc2d427",
   "metadata": {},
   "source": [
    "## Rock Songs"
   ]
  },
  {
   "cell_type": "code",
   "execution_count": 9,
   "id": "cd3de199",
   "metadata": {},
   "outputs": [
    {
     "name": "stdout",
     "output_type": "stream",
     "text": [
      "Music Downloaded!\n"
     ]
    }
   ],
   "source": [
    "tracks,columns = download_playlist('37i9dQZF1DXe9Gx5fVy1RT', 150)\n",
    "\n",
    "hits70_4 = pd.DataFrame(tracks,columns=columns)"
   ]
  },
  {
   "cell_type": "code",
   "execution_count": 10,
   "id": "4ac18410",
   "metadata": {},
   "outputs": [
    {
     "name": "stdout",
     "output_type": "stream",
     "text": [
      "Music Downloaded!\n"
     ]
    }
   ],
   "source": [
    "tracks,columns = download_playlist('37i9dQZF1DX1zuF5yREJDe', 150)\n",
    "\n",
    "hits70_5 = pd.DataFrame(tracks,columns=columns)"
   ]
  },
  {
   "cell_type": "code",
   "execution_count": 11,
   "id": "b9049004",
   "metadata": {},
   "outputs": [
    {
     "name": "stdout",
     "output_type": "stream",
     "text": [
      "Music Downloaded!\n"
     ]
    }
   ],
   "source": [
    "tracks,columns = download_playlist('37i9dQZF1DX1nxMqx6wzfy', 150)\n",
    "\n",
    "hits70_6 = pd.DataFrame(tracks,columns=columns)"
   ]
  },
  {
   "cell_type": "code",
   "execution_count": 12,
   "id": "9ef496e3",
   "metadata": {},
   "outputs": [
    {
     "name": "stdout",
     "output_type": "stream",
     "text": [
      "Music Downloaded!\n"
     ]
    }
   ],
   "source": [
    "tracks,columns = download_playlist('37i9dQZF1DXcZ23vu9p2EP', 150)\n",
    "\n",
    "hits70_7 = pd.DataFrame(tracks,columns=columns)"
   ]
  },
  {
   "cell_type": "code",
   "execution_count": 13,
   "id": "8996597f",
   "metadata": {},
   "outputs": [
    {
     "name": "stdout",
     "output_type": "stream",
     "text": [
      "Music Downloaded!\n"
     ]
    }
   ],
   "source": [
    "tracks,columns = download_playlist('37i9dQZF1DWY3ikieEzZoK', 150)\n",
    "\n",
    "hits70_8 = pd.DataFrame(tracks,columns=columns)"
   ]
  },
  {
   "cell_type": "code",
   "execution_count": 14,
   "id": "97b9096d",
   "metadata": {},
   "outputs": [
    {
     "name": "stdout",
     "output_type": "stream",
     "text": [
      "Music Downloaded!\n"
     ]
    }
   ],
   "source": [
    "tracks,columns = download_playlist('37i9dQZF1DXcRozkBFkdf3', 150)\n",
    "\n",
    "hits70_9 = pd.DataFrame(tracks,columns=columns)"
   ]
  },
  {
   "cell_type": "markdown",
   "id": "f0d7cee0",
   "metadata": {},
   "source": [
    "## Others"
   ]
  },
  {
   "cell_type": "code",
   "execution_count": 15,
   "id": "b0fcbe3e",
   "metadata": {},
   "outputs": [
    {
     "name": "stdout",
     "output_type": "stream",
     "text": [
      "Music Downloaded!\n"
     ]
    }
   ],
   "source": [
    "tracks,columns = download_playlist('37i9dQZF1DWXrcZh4Kf8Qx', 150)\n",
    "\n",
    "hits70_10 = pd.DataFrame(tracks,columns=columns)"
   ]
  },
  {
   "cell_type": "code",
   "execution_count": 16,
   "id": "b05c556f",
   "metadata": {},
   "outputs": [
    {
     "name": "stdout",
     "output_type": "stream",
     "text": [
      "Music Downloaded!\n"
     ]
    }
   ],
   "source": [
    "tracks,columns = download_playlist('37i9dQZF1DX0JKUIfwQSJh', 150)\n",
    "\n",
    "hits70_11 = pd.DataFrame(tracks,columns=columns)"
   ]
  },
  {
   "cell_type": "code",
   "execution_count": 17,
   "id": "bcdf82f0",
   "metadata": {},
   "outputs": [
    {
     "name": "stdout",
     "output_type": "stream",
     "text": [
      "Music Downloaded!\n"
     ]
    }
   ],
   "source": [
    "tracks,columns = download_playlist('37i9dQZF1DWWg3YRMu4AEF', 150)\n",
    "\n",
    "hits70_12 = pd.DataFrame(tracks,columns=columns)"
   ]
  },
  {
   "cell_type": "markdown",
   "id": "d0b46665",
   "metadata": {},
   "source": [
    "# HITS 80"
   ]
  },
  {
   "cell_type": "code",
   "execution_count": 18,
   "id": "ceeb63ca",
   "metadata": {},
   "outputs": [
    {
     "name": "stdout",
     "output_type": "stream",
     "text": [
      "Music Downloaded!\n"
     ]
    }
   ],
   "source": [
    "tracks,columns = download_playlist('37i9dQZF1DXbdTzLVot2nl', 150)\n",
    "\n",
    "hits80_1 = pd.DataFrame(tracks,columns=columns)"
   ]
  },
  {
   "cell_type": "code",
   "execution_count": 19,
   "id": "cbbc7340",
   "metadata": {
    "scrolled": true
   },
   "outputs": [
    {
     "name": "stdout",
     "output_type": "stream",
     "text": [
      "Music Downloaded!\n"
     ]
    }
   ],
   "source": [
    "tracks,columns = download_playlist('37i9dQZF1DXcytuPF2IzEB', 150)\n",
    "\n",
    "hits80_2 = pd.DataFrame(tracks,columns=columns)"
   ]
  },
  {
   "cell_type": "code",
   "execution_count": 20,
   "id": "4b184781",
   "metadata": {},
   "outputs": [
    {
     "name": "stdout",
     "output_type": "stream",
     "text": [
      "Music Downloaded!\n"
     ]
    }
   ],
   "source": [
    "tracks,columns = download_playlist('37i9dQZF1DXb57FjYWz00c', 150)\n",
    "\n",
    "hits80_3 = pd.DataFrame(tracks,columns=columns)"
   ]
  },
  {
   "cell_type": "markdown",
   "id": "28b2bb02",
   "metadata": {},
   "source": [
    "## Rock Songs"
   ]
  },
  {
   "cell_type": "code",
   "execution_count": 21,
   "id": "5997e483",
   "metadata": {},
   "outputs": [
    {
     "name": "stdout",
     "output_type": "stream",
     "text": [
      "Music Downloaded!\n"
     ]
    }
   ],
   "source": [
    "tracks,columns = download_playlist('37i9dQZF1DX8pxtTvJ2V4V', 150)\n",
    "\n",
    "hits80_4 = pd.DataFrame(tracks,columns=columns)"
   ]
  },
  {
   "cell_type": "code",
   "execution_count": 22,
   "id": "eb9215bc",
   "metadata": {},
   "outputs": [
    {
     "name": "stdout",
     "output_type": "stream",
     "text": [
      "Music Downloaded!\n"
     ]
    }
   ],
   "source": [
    "tracks,columns = download_playlist('37i9dQZF1DXbGsT3lGmSyq', 150)\n",
    "\n",
    "hits80_5 = pd.DataFrame(tracks,columns=columns)"
   ]
  },
  {
   "cell_type": "code",
   "execution_count": 23,
   "id": "1329ef02",
   "metadata": {},
   "outputs": [
    {
     "name": "stdout",
     "output_type": "stream",
     "text": [
      "Music Downloaded!\n"
     ]
    }
   ],
   "source": [
    "tracks,columns = download_playlist('37i9dQZF1DX33lABaeNmpm', 150)\n",
    "\n",
    "hits80_6 = pd.DataFrame(tracks,columns=columns)"
   ]
  },
  {
   "cell_type": "code",
   "execution_count": 24,
   "id": "88a445b2",
   "metadata": {},
   "outputs": [
    {
     "name": "stdout",
     "output_type": "stream",
     "text": [
      "Music Downloaded!\n"
     ]
    }
   ],
   "source": [
    "tracks,columns = download_playlist('37i9dQZF1DXblUY0xyx5hD', 150)\n",
    "\n",
    "hits80_7 = pd.DataFrame(tracks,columns=columns)"
   ]
  },
  {
   "cell_type": "markdown",
   "id": "0718274e",
   "metadata": {},
   "source": [
    "## Rap Songs "
   ]
  },
  {
   "cell_type": "code",
   "execution_count": 25,
   "id": "85bae2af",
   "metadata": {},
   "outputs": [
    {
     "name": "stdout",
     "output_type": "stream",
     "text": [
      "Music Downloaded!\n"
     ]
    }
   ],
   "source": [
    "tracks,columns = download_playlist('37i9dQZF1DX7FKmscS2x8B', 150)\n",
    "\n",
    "hits80_8 = pd.DataFrame(tracks,columns=columns)"
   ]
  },
  {
   "cell_type": "code",
   "execution_count": 26,
   "id": "95d49ccd",
   "metadata": {},
   "outputs": [
    {
     "name": "stdout",
     "output_type": "stream",
     "text": [
      "Music Downloaded!\n"
     ]
    }
   ],
   "source": [
    "tracks,columns = download_playlist('37i9dQZF1DWXL4gG0TAH6S', 150)\n",
    "\n",
    "hits80_9 = pd.DataFrame(tracks,columns=columns)"
   ]
  },
  {
   "cell_type": "code",
   "execution_count": 27,
   "id": "f3c82d8e",
   "metadata": {},
   "outputs": [
    {
     "name": "stdout",
     "output_type": "stream",
     "text": [
      "Music Downloaded!\n"
     ]
    }
   ],
   "source": [
    "tracks,columns = download_playlist('37i9dQZF1DX5qDhvewvOhw', 150)\n",
    "\n",
    "hits80_10 = pd.DataFrame(tracks,columns=columns)"
   ]
  },
  {
   "cell_type": "markdown",
   "id": "7ac96873",
   "metadata": {},
   "source": [
    "## Others"
   ]
  },
  {
   "cell_type": "code",
   "execution_count": 28,
   "id": "ac7f03ad",
   "metadata": {},
   "outputs": [
    {
     "name": "stdout",
     "output_type": "stream",
     "text": [
      "Music Downloaded!\n"
     ]
    }
   ],
   "source": [
    "tracks,columns = download_playlist('37i9dQZF1DWYAcBZSAVhlf', 150)\n",
    "\n",
    "hits80_11 = pd.DataFrame(tracks,columns=columns)"
   ]
  },
  {
   "cell_type": "markdown",
   "id": "2f1fc770",
   "metadata": {},
   "source": [
    "# HITS 90"
   ]
  },
  {
   "cell_type": "code",
   "execution_count": 29,
   "id": "41107aca",
   "metadata": {},
   "outputs": [],
   "source": [
    "#Credentials to access the Spotify Music Data\n",
    "manager = SpotifyClientCredentials(cid,secret)\n",
    "sp = spotipy.Spotify(client_credentials_manager=manager)\n",
    "\n",
    "#Credentials to access to  the Spotify User's Playlist, Favorite Songs, etc. \n",
    "token = util.prompt_for_user_token(username,scope,cid,secret,redirect_uri) \n",
    "spt = spotipy.Spotify(auth=token)"
   ]
  },
  {
   "cell_type": "code",
   "execution_count": 30,
   "id": "23d5c2cb",
   "metadata": {},
   "outputs": [
    {
     "name": "stdout",
     "output_type": "stream",
     "text": [
      "Music Downloaded!\n"
     ]
    }
   ],
   "source": [
    "tracks,columns = download_playlist('37i9dQZF1DXbTxeAdrVG2l', 150)\n",
    "\n",
    "hits90_1 = pd.DataFrame(tracks,columns=columns)"
   ]
  },
  {
   "cell_type": "code",
   "execution_count": 31,
   "id": "eda7ec2b",
   "metadata": {},
   "outputs": [
    {
     "name": "stdout",
     "output_type": "stream",
     "text": [
      "Music Downloaded!\n"
     ]
    }
   ],
   "source": [
    "tracks,columns = download_playlist('37i9dQZF1DXaLI8a395lse', 150)\n",
    "\n",
    "hits90_2 = pd.DataFrame(tracks,columns=columns)"
   ]
  },
  {
   "cell_type": "code",
   "execution_count": 32,
   "id": "c2471d6c",
   "metadata": {},
   "outputs": [
    {
     "name": "stdout",
     "output_type": "stream",
     "text": [
      "Music Downloaded!\n"
     ]
    }
   ],
   "source": [
    "tracks,columns = download_playlist('37i9dQZF1DX17dmzi8A5FV', 150)\n",
    "\n",
    "hits90_3 = pd.DataFrame(tracks,columns=columns)"
   ]
  },
  {
   "cell_type": "markdown",
   "id": "d63e162f",
   "metadata": {},
   "source": [
    "## Rock Songs"
   ]
  },
  {
   "cell_type": "code",
   "execution_count": 33,
   "id": "8c4e2f03",
   "metadata": {},
   "outputs": [
    {
     "name": "stdout",
     "output_type": "stream",
     "text": [
      "Music Downloaded!\n"
     ]
    }
   ],
   "source": [
    "tracks,columns = download_playlist('37i9dQZF1DXbdTzLVot2nl', 150)\n",
    "\n",
    "hits90_4 = pd.DataFrame(tracks,columns=columns)"
   ]
  },
  {
   "cell_type": "code",
   "execution_count": 34,
   "id": "400b1610",
   "metadata": {},
   "outputs": [
    {
     "name": "stdout",
     "output_type": "stream",
     "text": [
      "Music Downloaded!\n"
     ]
    }
   ],
   "source": [
    "tracks,columns = download_playlist('37i9dQZF1DXe3xQ87w7k3M', 150)\n",
    "\n",
    "hits90_5 = pd.DataFrame(tracks,columns=columns)"
   ]
  },
  {
   "cell_type": "code",
   "execution_count": 35,
   "id": "8106a7a4",
   "metadata": {},
   "outputs": [
    {
     "name": "stdout",
     "output_type": "stream",
     "text": [
      "Music Downloaded!\n"
     ]
    }
   ],
   "source": [
    "tracks,columns = download_playlist('37i9dQZF1DWZPqHZ7Q4Gis', 150)\n",
    "\n",
    "hits90_6 = pd.DataFrame(tracks,columns=columns)"
   ]
  },
  {
   "cell_type": "code",
   "execution_count": 36,
   "id": "5347c772",
   "metadata": {},
   "outputs": [
    {
     "name": "stdout",
     "output_type": "stream",
     "text": [
      "Music Downloaded!\n"
     ]
    }
   ],
   "source": [
    "tracks,columns = download_playlist('37i9dQZF1DWV4tgsIXfwye', 150)\n",
    "\n",
    "hits90_7 = pd.DataFrame(tracks,columns=columns)"
   ]
  },
  {
   "cell_type": "markdown",
   "id": "a1962703",
   "metadata": {},
   "source": [
    "## Rap Songs "
   ]
  },
  {
   "cell_type": "code",
   "execution_count": 37,
   "id": "f328951e",
   "metadata": {},
   "outputs": [
    {
     "name": "stdout",
     "output_type": "stream",
     "text": [
      "Music Downloaded!\n"
     ]
    }
   ],
   "source": [
    "tracks,columns = download_playlist('37i9dQZF1DWW2hPRmLK5MU', 150)\n",
    "\n",
    "hits90_8 = pd.DataFrame(tracks,columns=columns)"
   ]
  },
  {
   "cell_type": "code",
   "execution_count": 38,
   "id": "821101c9",
   "metadata": {},
   "outputs": [
    {
     "name": "stdout",
     "output_type": "stream",
     "text": [
      "Music Downloaded!\n"
     ]
    }
   ],
   "source": [
    "tracks,columns = download_playlist('37i9dQZF1DWWgpcmreqzjG', 150)\n",
    "\n",
    "hits90_10 = pd.DataFrame(tracks,columns=columns)"
   ]
  },
  {
   "cell_type": "code",
   "execution_count": 39,
   "id": "49ccf19a",
   "metadata": {},
   "outputs": [
    {
     "name": "stdout",
     "output_type": "stream",
     "text": [
      "Music Downloaded!\n"
     ]
    }
   ],
   "source": [
    "tracks,columns = download_playlist('37i9dQZF1DX4Qj1AcHpQPB', 150)\n",
    "\n",
    "hits90_11 = pd.DataFrame(tracks,columns=columns)"
   ]
  },
  {
   "cell_type": "markdown",
   "id": "8ae6fdc4",
   "metadata": {},
   "source": [
    "## Others"
   ]
  },
  {
   "cell_type": "code",
   "execution_count": 40,
   "id": "a15fd621",
   "metadata": {},
   "outputs": [
    {
     "name": "stdout",
     "output_type": "stream",
     "text": [
      "Music Downloaded!\n"
     ]
    }
   ],
   "source": [
    "tracks,columns = download_playlist('37i9dQZF1DX4g1k3dwPPvk', 150)\n",
    "\n",
    "hits90_12 = pd.DataFrame(tracks,columns=columns)"
   ]
  },
  {
   "cell_type": "markdown",
   "id": "274e4012",
   "metadata": {},
   "source": [
    "# HITS 2000"
   ]
  },
  {
   "cell_type": "code",
   "execution_count": 41,
   "id": "46c01583",
   "metadata": {},
   "outputs": [],
   "source": [
    "#Credentials to access the Spotify Music Data\n",
    "manager = SpotifyClientCredentials(cid,secret)\n",
    "sp = spotipy.Spotify(client_credentials_manager=manager)\n",
    "\n",
    "#Credentials to access to  the Spotify User's Playlist, Favorite Songs, etc. \n",
    "token = util.prompt_for_user_token(username,scope,cid,secret,redirect_uri) \n",
    "spt = spotipy.Spotify(auth=token)"
   ]
  },
  {
   "cell_type": "code",
   "execution_count": 42,
   "id": "3727f596",
   "metadata": {},
   "outputs": [
    {
     "name": "stdout",
     "output_type": "stream",
     "text": [
      "Music Downloaded!\n"
     ]
    }
   ],
   "source": [
    "tracks,columns = download_playlist('37i9dQZF1DX4o1oenSJRJd', 150)\n",
    "\n",
    "hits20_1 = pd.DataFrame(tracks,columns=columns)"
   ]
  },
  {
   "cell_type": "code",
   "execution_count": 43,
   "id": "72b0290d",
   "metadata": {},
   "outputs": [
    {
     "name": "stdout",
     "output_type": "stream",
     "text": [
      "Music Downloaded!\n"
     ]
    }
   ],
   "source": [
    "tracks,columns = download_playlist('37i9dQZF1DWYmmr74INQlb', 150)\n",
    "\n",
    "hits20_2 = pd.DataFrame(tracks,columns=columns)"
   ]
  },
  {
   "cell_type": "code",
   "execution_count": 44,
   "id": "8175bf4f",
   "metadata": {},
   "outputs": [
    {
     "name": "stdout",
     "output_type": "stream",
     "text": [
      "Music Downloaded!\n"
     ]
    }
   ],
   "source": [
    "tracks,columns = download_playlist('37i9dQZF1DX21sNa02ZMU9', 150)\n",
    "\n",
    "hits20_3 = pd.DataFrame(tracks,columns=columns)"
   ]
  },
  {
   "cell_type": "markdown",
   "id": "d680bc2d",
   "metadata": {},
   "source": [
    "## Rock Songs"
   ]
  },
  {
   "cell_type": "code",
   "execution_count": 45,
   "id": "870b9afd",
   "metadata": {},
   "outputs": [
    {
     "name": "stdout",
     "output_type": "stream",
     "text": [
      "Music Downloaded!\n"
     ]
    }
   ],
   "source": [
    "tracks,columns = download_playlist('37i9dQZF1DWXHPEQuQqSH9', 150)\n",
    "\n",
    "hits20_4 = pd.DataFrame(tracks,columns=columns)"
   ]
  },
  {
   "cell_type": "code",
   "execution_count": 46,
   "id": "c586bc7d",
   "metadata": {},
   "outputs": [
    {
     "name": "stdout",
     "output_type": "stream",
     "text": [
      "Music Downloaded!\n"
     ]
    }
   ],
   "source": [
    "tracks,columns = download_playlist('37i9dQZF1DWYtIgspfyIDd', 150)\n",
    "\n",
    "hits20_5 = pd.DataFrame(tracks,columns=columns)"
   ]
  },
  {
   "cell_type": "code",
   "execution_count": 47,
   "id": "e3c2f5c0",
   "metadata": {},
   "outputs": [
    {
     "name": "stdout",
     "output_type": "stream",
     "text": [
      "Music Downloaded!\n"
     ]
    }
   ],
   "source": [
    "tracks,columns = download_playlist('37i9dQZF1DX1k65azGVY2p', 150)\n",
    "\n",
    "hits20_6 = pd.DataFrame(tracks,columns=columns)"
   ]
  },
  {
   "cell_type": "markdown",
   "id": "9eed93dd",
   "metadata": {},
   "source": [
    "## Rap Songs "
   ]
  },
  {
   "cell_type": "code",
   "execution_count": 48,
   "id": "30d90ada",
   "metadata": {},
   "outputs": [
    {
     "name": "stdout",
     "output_type": "stream",
     "text": [
      "Music Downloaded!\n"
     ]
    }
   ],
   "source": [
    "tracks,columns = download_playlist('37i9dQZF1DX5jhxt8O3Avg', 150)\n",
    "\n",
    "hits20_7 = pd.DataFrame(tracks,columns=columns)"
   ]
  },
  {
   "cell_type": "code",
   "execution_count": 49,
   "id": "e14f4a42",
   "metadata": {},
   "outputs": [
    {
     "name": "stdout",
     "output_type": "stream",
     "text": [
      "Music Downloaded!\n"
     ]
    }
   ],
   "source": [
    "tracks,columns = download_playlist('37i9dQZF1DX2uR7gB1l1vW', 150)\n",
    "\n",
    "hits20_8 = pd.DataFrame(tracks,columns=columns)"
   ]
  },
  {
   "cell_type": "code",
   "execution_count": 50,
   "id": "5e14a566",
   "metadata": {},
   "outputs": [
    {
     "name": "stdout",
     "output_type": "stream",
     "text": [
      "Music Downloaded!\n"
     ]
    }
   ],
   "source": [
    "tracks,columns = download_playlist('37i9dQZF1DXdkiDfFquiVf', 150)\n",
    "\n",
    "hits20_9 = pd.DataFrame(tracks,columns=columns)"
   ]
  },
  {
   "cell_type": "markdown",
   "id": "977c8ddd",
   "metadata": {},
   "source": [
    "## Others"
   ]
  },
  {
   "cell_type": "code",
   "execution_count": 51,
   "id": "0f0a5b0c",
   "metadata": {},
   "outputs": [
    {
     "name": "stdout",
     "output_type": "stream",
     "text": [
      "Music Downloaded!\n"
     ]
    }
   ],
   "source": [
    "tracks,columns = download_playlist('37i9dQZF1DX9bmAYCF0dF3', 150)\n",
    "\n",
    "hits20_10 = pd.DataFrame(tracks,columns=columns)"
   ]
  },
  {
   "cell_type": "code",
   "execution_count": 52,
   "id": "88cceabc",
   "metadata": {},
   "outputs": [
    {
     "name": "stdout",
     "output_type": "stream",
     "text": [
      "Music Downloaded!\n"
     ]
    }
   ],
   "source": [
    "tracks,columns = download_playlist('37i9dQZF1DWXNFSTtym834', 150)\n",
    "\n",
    "hits20_11 = pd.DataFrame(tracks,columns=columns)"
   ]
  },
  {
   "cell_type": "code",
   "execution_count": 53,
   "id": "5d0a6778",
   "metadata": {},
   "outputs": [
    {
     "name": "stdout",
     "output_type": "stream",
     "text": [
      "Music Downloaded!\n"
     ]
    }
   ],
   "source": [
    "tracks,columns = download_playlist('37i9dQZF1DX4laDTTxplAf', 150)\n",
    "\n",
    "hits20_12 = pd.DataFrame(tracks,columns=columns)"
   ]
  },
  {
   "cell_type": "markdown",
   "id": "c7387089",
   "metadata": {},
   "source": [
    "# HITS 2010"
   ]
  },
  {
   "cell_type": "code",
   "execution_count": 54,
   "id": "30c406ea",
   "metadata": {},
   "outputs": [],
   "source": [
    "import spotipy\n",
    "from spotipy.oauth2 import SpotifyClientCredentials\n",
    "import spotipy.util as util\n",
    "import time\n",
    "from IPython.core.display import clear_output\n",
    "\n",
    "\n",
    "cid ='74ec55c0be3c41d48da298607145034a' # Client ID; copy this from your app created on beta.developer.spotify.com\n",
    "secret = '36242f76cc524f3b95ad51e22929f9a8' # Client Secret; copy this from your app\n",
    "username = 'blendoruruci' # Your Spotify username\n",
    "\n",
    "#for avaliable scopes see https://developer.spotify.com/web-api/using-scopes/\n",
    "scope = 'user-library-read playlist-modify-public playlist-read-private'\n",
    "\n",
    "client_credentials_manager = SpotifyClientCredentials(client_id=cid, client_secret=secret)\n",
    "\n",
    "sp = spotipy.Spotify(client_credentials_manager=client_credentials_manager)\n",
    "redirect_uri='https://developer.spotify.com/dashboard/applications/74ec55c0be3c41d48da298607145034a'\n",
    "token = util.prompt_for_user_token(username, scope, cid, secret, redirect_uri)\n",
    "\n",
    "if token:\n",
    "    sp = spotipy.Spotify(auth=token)\n",
    "else:\n",
    "    print(\"Can't get token for\", username)"
   ]
  },
  {
   "cell_type": "code",
   "execution_count": 55,
   "id": "ab3721ac",
   "metadata": {},
   "outputs": [],
   "source": [
    "#Credentials to access the Spotify Music Data\n",
    "manager = SpotifyClientCredentials(cid,secret)\n",
    "sp = spotipy.Spotify(client_credentials_manager=manager)\n",
    "\n",
    "#Credentials to access to  the Spotify User's Playlist, Favorite Songs, etc. \n",
    "token = util.prompt_for_user_token(username,scope,cid,secret,redirect_uri) \n",
    "spt = spotipy.Spotify(auth=token)"
   ]
  },
  {
   "cell_type": "code",
   "execution_count": 56,
   "id": "efb7ab06",
   "metadata": {},
   "outputs": [
    {
     "name": "stdout",
     "output_type": "stream",
     "text": [
      "Music Downloaded!\n"
     ]
    }
   ],
   "source": [
    "tracks,columns = download_playlist('37i9dQZF1DX5Ejj0EkURtP', 150)\n",
    "\n",
    "hits2010_1 = pd.DataFrame(tracks,columns=columns)"
   ]
  },
  {
   "cell_type": "code",
   "execution_count": 57,
   "id": "5fa59b20",
   "metadata": {},
   "outputs": [
    {
     "name": "stdout",
     "output_type": "stream",
     "text": [
      "Music Downloaded!\n"
     ]
    }
   ],
   "source": [
    "tracks,columns = download_playlist('37i9dQZF1DWXbttAJcbphz', 150)\n",
    "\n",
    "hits2010_2 = pd.DataFrame(tracks,columns=columns)"
   ]
  },
  {
   "cell_type": "code",
   "execution_count": 58,
   "id": "08724a7e",
   "metadata": {},
   "outputs": [
    {
     "name": "stdout",
     "output_type": "stream",
     "text": [
      "Music Downloaded!\n"
     ]
    }
   ],
   "source": [
    "tracks,columns = download_playlist('37i9dQZF1DX5wgkIjaIMie', 150)\n",
    "\n",
    "hits2010_3 = pd.DataFrame(tracks,columns=columns)"
   ]
  },
  {
   "cell_type": "markdown",
   "id": "d524b4e3",
   "metadata": {},
   "source": [
    "## Rap Songs "
   ]
  },
  {
   "cell_type": "code",
   "execution_count": 59,
   "id": "30fb2195",
   "metadata": {},
   "outputs": [
    {
     "name": "stdout",
     "output_type": "stream",
     "text": [
      "Music Downloaded!\n"
     ]
    }
   ],
   "source": [
    "tracks,columns = download_playlist('37i9dQZF1DWVYt8k31ngSV', 99)\n",
    "\n",
    "hits2010_7 = pd.DataFrame(tracks,columns=columns)"
   ]
  },
  {
   "cell_type": "code",
   "execution_count": 60,
   "id": "77f4868c",
   "metadata": {},
   "outputs": [
    {
     "name": "stdout",
     "output_type": "stream",
     "text": [
      "Music Downloaded!\n"
     ]
    }
   ],
   "source": [
    "tracks,columns = download_playlist('37i9dQZF1DWVMNqadsMARW', 150)\n",
    "\n",
    "hits2010_8 = pd.DataFrame(tracks,columns=columns)"
   ]
  },
  {
   "cell_type": "code",
   "execution_count": 61,
   "id": "50d44e02",
   "metadata": {},
   "outputs": [
    {
     "name": "stdout",
     "output_type": "stream",
     "text": [
      "Music Downloaded!\n"
     ]
    }
   ],
   "source": [
    "tracks,columns = download_playlist('37i9dQZF1DX7mZLuTMCz3p', 150)\n",
    "\n",
    "hits2010_9 = pd.DataFrame(tracks,columns=columns)"
   ]
  },
  {
   "cell_type": "markdown",
   "id": "3b51d5e8",
   "metadata": {},
   "source": [
    "## Others"
   ]
  },
  {
   "cell_type": "code",
   "execution_count": 62,
   "id": "59ab77d4",
   "metadata": {},
   "outputs": [
    {
     "name": "stdout",
     "output_type": "stream",
     "text": [
      "Music Downloaded!\n"
     ]
    }
   ],
   "source": [
    "tracks,columns = download_playlist('37i9dQZF1DX9oegrjMzKDW', 150)\n",
    "\n",
    "hits2010_10 = pd.DataFrame(tracks,columns=columns)"
   ]
  },
  {
   "cell_type": "code",
   "execution_count": 63,
   "id": "4815cc2f",
   "metadata": {},
   "outputs": [
    {
     "name": "stdout",
     "output_type": "stream",
     "text": [
      "Music Downloaded!\n"
     ]
    }
   ],
   "source": [
    "tracks,columns = download_playlist('37i9dQZF1DWVTfbQdQ8l7H', 150)\n",
    "\n",
    "hits2010_11 = pd.DataFrame(tracks,columns=columns)"
   ]
  },
  {
   "cell_type": "code",
   "execution_count": 64,
   "id": "e64ab191",
   "metadata": {},
   "outputs": [
    {
     "name": "stdout",
     "output_type": "stream",
     "text": [
      "Music Downloaded!\n"
     ]
    }
   ],
   "source": [
    "tracks,columns = download_playlist('37i9dQZF1DXaLaoaQqrfyO', 150)\n",
    "\n",
    "hits2010_12 = pd.DataFrame(tracks,columns=columns)"
   ]
  },
  {
   "cell_type": "code",
   "execution_count": 65,
   "id": "f39173f3",
   "metadata": {},
   "outputs": [
    {
     "name": "stdout",
     "output_type": "stream",
     "text": [
      "Music Downloaded!\n"
     ]
    }
   ],
   "source": [
    "tracks,columns = download_playlist('37i9dQZF1DWXdiK4WAVRUW', 150)\n",
    "\n",
    "hits2010_13 = pd.DataFrame(tracks,columns=columns)"
   ]
  },
  {
   "cell_type": "code",
   "execution_count": 66,
   "id": "e3280a30",
   "metadata": {},
   "outputs": [
    {
     "name": "stdout",
     "output_type": "stream",
     "text": [
      "Music Downloaded!\n"
     ]
    }
   ],
   "source": [
    "tracks,columns = download_playlist('37i9dQZF1DXaWf8ZIHreXF', 150)\n",
    "\n",
    "hits2010_14 = pd.DataFrame(tracks,columns=columns)"
   ]
  },
  {
   "cell_type": "markdown",
   "id": "86208cd2",
   "metadata": {},
   "source": [
    "# Some modern songs"
   ]
  },
  {
   "cell_type": "code",
   "execution_count": 67,
   "id": "faf54b48",
   "metadata": {},
   "outputs": [],
   "source": [
    "#Credentials to access the Spotify Music Data\n",
    "manager = SpotifyClientCredentials(cid,secret)\n",
    "sp = spotipy.Spotify(client_credentials_manager=manager)\n",
    "\n",
    "#Credentials to access to  the Spotify User's Playlist, Favorite Songs, etc. \n",
    "token = util.prompt_for_user_token(username,scope,cid,secret,redirect_uri) \n",
    "spt = spotipy.Spotify(auth=token)"
   ]
  },
  {
   "cell_type": "code",
   "execution_count": 68,
   "id": "ed6fcc88",
   "metadata": {},
   "outputs": [
    {
     "name": "stdout",
     "output_type": "stream",
     "text": [
      "Music Downloaded!\n"
     ]
    }
   ],
   "source": [
    "tracks,columns = download_playlist('37i9dQZF1DX0MD19TXm0aV', 150)\n",
    "\n",
    "hits22_1 = pd.DataFrame(tracks,columns=columns)"
   ]
  },
  {
   "cell_type": "code",
   "execution_count": 69,
   "id": "11a65717",
   "metadata": {},
   "outputs": [
    {
     "name": "stdout",
     "output_type": "stream",
     "text": [
      "Music Downloaded!\n"
     ]
    }
   ],
   "source": [
    "tracks,columns = download_playlist('37i9dQZEVXbMDoHDwVN2tF', 150)\n",
    "\n",
    "hits22_2 = pd.DataFrame(tracks,columns=columns)"
   ]
  },
  {
   "cell_type": "code",
   "execution_count": 70,
   "id": "fa12e2b5",
   "metadata": {},
   "outputs": [
    {
     "name": "stdout",
     "output_type": "stream",
     "text": [
      "Music Downloaded!\n"
     ]
    }
   ],
   "source": [
    "tracks,columns = download_playlist('37i9dQZEVXbJiyhoAPEfMK', 150)\n",
    "\n",
    "hits22_3 = pd.DataFrame(tracks,columns=columns)"
   ]
  },
  {
   "cell_type": "code",
   "execution_count": 71,
   "id": "cb72eede",
   "metadata": {},
   "outputs": [
    {
     "name": "stdout",
     "output_type": "stream",
     "text": [
      "Music Downloaded!\n"
     ]
    }
   ],
   "source": [
    "tracks,columns = download_playlist('37i9dQZEVXbLiRSasKsNU9', 150)\n",
    "\n",
    "hits22_4 = pd.DataFrame(tracks,columns=columns)"
   ]
  },
  {
   "cell_type": "code",
   "execution_count": 72,
   "id": "c044e04d",
   "metadata": {},
   "outputs": [
    {
     "name": "stdout",
     "output_type": "stream",
     "text": [
      "Music Downloaded!\n"
     ]
    }
   ],
   "source": [
    "tracks,columns = download_playlist('37i9dQZF1DWX7rdRjOECPW', 150)\n",
    "\n",
    "hits22_5 = pd.DataFrame(tracks,columns=columns)"
   ]
  },
  {
   "cell_type": "code",
   "execution_count": 73,
   "id": "c6401b7a",
   "metadata": {},
   "outputs": [
    {
     "name": "stdout",
     "output_type": "stream",
     "text": [
      "Music Downloaded!\n"
     ]
    }
   ],
   "source": [
    "tracks,columns = download_playlist('0raBWmSnsYQLUxBjL8OWEF', 150)\n",
    "\n",
    "hits22_6 = pd.DataFrame(tracks,columns=columns)"
   ]
  },
  {
   "cell_type": "code",
   "execution_count": 74,
   "id": "0ccda41b",
   "metadata": {},
   "outputs": [
    {
     "name": "stdout",
     "output_type": "stream",
     "text": [
      "Music Downloaded!\n"
     ]
    }
   ],
   "source": [
    "tracks,columns = download_playlist('0MF1XGKzqqeL0ZHeqMrq7R', 150)\n",
    "\n",
    "hits22_7 = pd.DataFrame(tracks,columns=columns)"
   ]
  },
  {
   "cell_type": "code",
   "execution_count": 75,
   "id": "7cccf49a",
   "metadata": {},
   "outputs": [
    {
     "name": "stdout",
     "output_type": "stream",
     "text": [
      "Music Downloaded!\n"
     ]
    }
   ],
   "source": [
    "tracks,columns = download_playlist('2Ixbp5IXV3fGWTjhIgWcC1', 150)\n",
    "\n",
    "hits22_8 = pd.DataFrame(tracks,columns=columns)"
   ]
  },
  {
   "cell_type": "code",
   "execution_count": null,
   "id": "fc03c1bc",
   "metadata": {},
   "outputs": [],
   "source": []
  },
  {
   "cell_type": "code",
   "execution_count": 76,
   "id": "3aca6520",
   "metadata": {},
   "outputs": [],
   "source": [
    "hits1970 = pd.concat([hits70_1, hits70_2, hits70_3, hits70_4, hits70_5, hits70_6, hits70_7, hits70_8, hits70_9, hits70_10, hits70_11, hits70_12])\n",
    "hits1980 = pd.concat([hits80_1, hits80_2, hits80_3, hits80_4, hits80_5, hits80_6, hits80_7, hits80_8, hits80_9, hits80_10, hits80_11])\n",
    "hits1990 = pd.concat([hits90_1, hits90_2, hits90_3, hits90_4, hits90_5, hits90_6, hits90_7, hits90_8, hits90_10, hits90_11, hits90_12])\n",
    "hits2000 = pd.concat([hits20_1, hits20_2, hits20_3, hits20_4, hits20_5, hits20_6, hits20_7, hits20_8, hits20_9, hits20_10, hits20_11, hits20_12])\n",
    "hits2010 = pd.concat([hits2010_1, hits2010_2, hits2010_3, hits2010_7, hits2010_8, hits2010_9, hits2010_10, hits2010_11, hits2010_12])\n",
    "hits2022 = pd.concat([hits22_1, hits22_2, hits22_3, hits22_4, hits22_5, hits22_6, hits22_7, hits22_8])"
   ]
  },
  {
   "cell_type": "code",
   "execution_count": 77,
   "id": "de0f385d",
   "metadata": {},
   "outputs": [],
   "source": [
    "hits1970.to_csv('hits1970.csv',index=False)\n",
    "hits1980.to_csv('hits1980.csv',index=False)\n",
    "hits1990.to_csv('hits1990.csv',index=False)\n",
    "hits2000.to_csv('hits2000.csv',index=False)\n",
    "hits2010.to_csv('hits2010.csv',index=False)\n",
    "hits2022.to_csv('hits2022.csv',index=False)"
   ]
  },
  {
   "cell_type": "code",
   "execution_count": null,
   "id": "dd192274",
   "metadata": {},
   "outputs": [],
   "source": []
  }
 ],
 "metadata": {
  "kernelspec": {
   "display_name": "conda_tensorflow_p36",
   "language": "python",
   "name": "conda_tensorflow_p36"
  },
  "language_info": {
   "codemirror_mode": {
    "name": "ipython",
    "version": 3
   },
   "file_extension": ".py",
   "mimetype": "text/x-python",
   "name": "python",
   "nbconvert_exporter": "python",
   "pygments_lexer": "ipython3",
   "version": "3.6.13"
  }
 },
 "nbformat": 4,
 "nbformat_minor": 5
}
