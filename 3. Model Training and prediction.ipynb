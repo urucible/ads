{
 "cells": [
  {
   "cell_type": "code",
   "execution_count": 1,
   "id": "babd605d",
   "metadata": {
    "scrolled": true
   },
   "outputs": [
    {
     "data": {
      "text/plain": [
       "'2.6.2'"
      ]
     },
     "execution_count": 1,
     "metadata": {},
     "output_type": "execute_result"
    }
   ],
   "source": [
    "import numpy as np\n",
    "import pandas as pd\n",
    "import tensorflow as tf\n",
    "import keras\n",
    "import matplotlib.pyplot as plt\n",
    "import seaborn as sns\n",
    "import plotly.express as px\n",
    "\n",
    "from keras.models import Sequential\n",
    "\n",
    "from sklearn.linear_model import LogisticRegression\n",
    "from sklearn.neighbors import KNeighborsClassifier\n",
    "from sklearn.tree import DecisionTreeClassifier\n",
    "from sklearn.svm import LinearSVC, SVC\n",
    "from sklearn.neural_network import MLPClassifier\n",
    "from sklearn.ensemble import RandomForestClassifier, GradientBoostingClassifier\n",
    "\n",
    "from keras.layers.core import Dense\n",
    "from keras.layers.core import Flatten\n",
    "from keras.layers.core import Activation\n",
    "from keras.layers.core import Dropout\n",
    "from keras.layers import Conv2D\n",
    "from keras.layers import GRU\n",
    "from keras.layers import MaxPool2D\n",
    "from sklearn.dummy import DummyClassifier\n",
    "from sklearn.preprocessing import MinMaxScaler, StandardScaler\n",
    "from sklearn.model_selection import train_test_split\n",
    "from sklearn.metrics import confusion_matrix, accuracy_score\n",
    "\n",
    "import os\n",
    "tf.__version__"
   ]
  },
  {
   "cell_type": "code",
   "execution_count": 2,
   "id": "f4db380a",
   "metadata": {},
   "outputs": [],
   "source": [
    "df = pd.read_csv(\"dataframe.csv\")"
   ]
  },
  {
   "cell_type": "code",
   "execution_count": 3,
   "id": "af98cb32",
   "metadata": {
    "scrolled": true
   },
   "outputs": [
    {
     "data": {
      "text/html": [
       "<div>\n",
       "<style scoped>\n",
       "    .dataframe tbody tr th:only-of-type {\n",
       "        vertical-align: middle;\n",
       "    }\n",
       "\n",
       "    .dataframe tbody tr th {\n",
       "        vertical-align: top;\n",
       "    }\n",
       "\n",
       "    .dataframe thead th {\n",
       "        text-align: right;\n",
       "    }\n",
       "</style>\n",
       "<table border=\"1\" class=\"dataframe\">\n",
       "  <thead>\n",
       "    <tr style=\"text-align: right;\">\n",
       "      <th></th>\n",
       "      <th>popularity</th>\n",
       "      <th>length</th>\n",
       "      <th>danceability</th>\n",
       "      <th>acousticness</th>\n",
       "      <th>energy</th>\n",
       "      <th>instrumentalness</th>\n",
       "      <th>liveness</th>\n",
       "      <th>valence</th>\n",
       "      <th>loudness</th>\n",
       "      <th>speechiness</th>\n",
       "      <th>...</th>\n",
       "      <th>artist_Zkr</th>\n",
       "      <th>artist_Zucchero</th>\n",
       "      <th>artist_a-ha</th>\n",
       "      <th>artist_benny blanco</th>\n",
       "      <th>artist_blink-182</th>\n",
       "      <th>artist_my bloody valentine</th>\n",
       "      <th>artist_reezy</th>\n",
       "      <th>artist_t-low</th>\n",
       "      <th>artist_will.i.am</th>\n",
       "      <th>artist_Öwnboss</th>\n",
       "    </tr>\n",
       "  </thead>\n",
       "  <tbody>\n",
       "    <tr>\n",
       "      <th>0</th>\n",
       "      <td>1</td>\n",
       "      <td>123133</td>\n",
       "      <td>0.684</td>\n",
       "      <td>0.708</td>\n",
       "      <td>0.498</td>\n",
       "      <td>0.000000</td>\n",
       "      <td>0.3650</td>\n",
       "      <td>0.905</td>\n",
       "      <td>-10.836</td>\n",
       "      <td>0.0300</td>\n",
       "      <td>...</td>\n",
       "      <td>0</td>\n",
       "      <td>0</td>\n",
       "      <td>0</td>\n",
       "      <td>0</td>\n",
       "      <td>0</td>\n",
       "      <td>0</td>\n",
       "      <td>0</td>\n",
       "      <td>0</td>\n",
       "      <td>0</td>\n",
       "      <td>0</td>\n",
       "    </tr>\n",
       "    <tr>\n",
       "      <th>1</th>\n",
       "      <td>0</td>\n",
       "      <td>162693</td>\n",
       "      <td>0.383</td>\n",
       "      <td>0.314</td>\n",
       "      <td>0.292</td>\n",
       "      <td>0.000013</td>\n",
       "      <td>0.0581</td>\n",
       "      <td>0.593</td>\n",
       "      <td>-15.230</td>\n",
       "      <td>0.0293</td>\n",
       "      <td>...</td>\n",
       "      <td>0</td>\n",
       "      <td>0</td>\n",
       "      <td>0</td>\n",
       "      <td>0</td>\n",
       "      <td>0</td>\n",
       "      <td>0</td>\n",
       "      <td>0</td>\n",
       "      <td>0</td>\n",
       "      <td>0</td>\n",
       "      <td>0</td>\n",
       "    </tr>\n",
       "    <tr>\n",
       "      <th>2</th>\n",
       "      <td>1</td>\n",
       "      <td>142773</td>\n",
       "      <td>0.759</td>\n",
       "      <td>0.067</td>\n",
       "      <td>0.621</td>\n",
       "      <td>0.000291</td>\n",
       "      <td>0.0623</td>\n",
       "      <td>0.921</td>\n",
       "      <td>-12.539</td>\n",
       "      <td>0.0314</td>\n",
       "      <td>...</td>\n",
       "      <td>0</td>\n",
       "      <td>0</td>\n",
       "      <td>0</td>\n",
       "      <td>0</td>\n",
       "      <td>0</td>\n",
       "      <td>0</td>\n",
       "      <td>0</td>\n",
       "      <td>0</td>\n",
       "      <td>0</td>\n",
       "      <td>0</td>\n",
       "    </tr>\n",
       "    <tr>\n",
       "      <th>3</th>\n",
       "      <td>0</td>\n",
       "      <td>170200</td>\n",
       "      <td>0.647</td>\n",
       "      <td>0.843</td>\n",
       "      <td>0.282</td>\n",
       "      <td>0.001340</td>\n",
       "      <td>0.1820</td>\n",
       "      <td>0.753</td>\n",
       "      <td>-15.042</td>\n",
       "      <td>0.0319</td>\n",
       "      <td>...</td>\n",
       "      <td>0</td>\n",
       "      <td>0</td>\n",
       "      <td>0</td>\n",
       "      <td>0</td>\n",
       "      <td>0</td>\n",
       "      <td>0</td>\n",
       "      <td>0</td>\n",
       "      <td>0</td>\n",
       "      <td>0</td>\n",
       "      <td>0</td>\n",
       "    </tr>\n",
       "    <tr>\n",
       "      <th>4</th>\n",
       "      <td>1</td>\n",
       "      <td>125266</td>\n",
       "      <td>0.492</td>\n",
       "      <td>0.470</td>\n",
       "      <td>0.428</td>\n",
       "      <td>0.000000</td>\n",
       "      <td>0.2040</td>\n",
       "      <td>0.871</td>\n",
       "      <td>-13.132</td>\n",
       "      <td>0.0352</td>\n",
       "      <td>...</td>\n",
       "      <td>0</td>\n",
       "      <td>0</td>\n",
       "      <td>0</td>\n",
       "      <td>0</td>\n",
       "      <td>0</td>\n",
       "      <td>0</td>\n",
       "      <td>0</td>\n",
       "      <td>0</td>\n",
       "      <td>0</td>\n",
       "      <td>0</td>\n",
       "    </tr>\n",
       "  </tbody>\n",
       "</table>\n",
       "<p>5 rows × 1591 columns</p>\n",
       "</div>"
      ],
      "text/plain": [
       "   popularity  length  danceability  acousticness  energy  instrumentalness  \\\n",
       "0           1  123133         0.684         0.708   0.498          0.000000   \n",
       "1           0  162693         0.383         0.314   0.292          0.000013   \n",
       "2           1  142773         0.759         0.067   0.621          0.000291   \n",
       "3           0  170200         0.647         0.843   0.282          0.001340   \n",
       "4           1  125266         0.492         0.470   0.428          0.000000   \n",
       "\n",
       "   liveness  valence  loudness  speechiness  ...  artist_Zkr  artist_Zucchero  \\\n",
       "0    0.3650    0.905   -10.836       0.0300  ...           0                0   \n",
       "1    0.0581    0.593   -15.230       0.0293  ...           0                0   \n",
       "2    0.0623    0.921   -12.539       0.0314  ...           0                0   \n",
       "3    0.1820    0.753   -15.042       0.0319  ...           0                0   \n",
       "4    0.2040    0.871   -13.132       0.0352  ...           0                0   \n",
       "\n",
       "   artist_a-ha  artist_benny blanco  artist_blink-182  \\\n",
       "0            0                    0                 0   \n",
       "1            0                    0                 0   \n",
       "2            0                    0                 0   \n",
       "3            0                    0                 0   \n",
       "4            0                    0                 0   \n",
       "\n",
       "   artist_my bloody valentine  artist_reezy  artist_t-low  artist_will.i.am  \\\n",
       "0                           0             0             0                 0   \n",
       "1                           0             0             0                 0   \n",
       "2                           0             0             0                 0   \n",
       "3                           0             0             0                 0   \n",
       "4                           0             0             0                 0   \n",
       "\n",
       "   artist_Öwnboss  \n",
       "0               0  \n",
       "1               0  \n",
       "2               0  \n",
       "3               0  \n",
       "4               0  \n",
       "\n",
       "[5 rows x 1591 columns]"
      ]
     },
     "execution_count": 3,
     "metadata": {},
     "output_type": "execute_result"
    }
   ],
   "source": [
    "df.head()"
   ]
  },
  {
   "cell_type": "markdown",
   "id": "e6daad00",
   "metadata": {},
   "source": [
    "# Split and Scale"
   ]
  },
  {
   "cell_type": "code",
   "execution_count": 4,
   "id": "59af9986",
   "metadata": {
    "scrolled": true
   },
   "outputs": [],
   "source": [
    "y = df.loc[:,'popularity']\n",
    "X = df.drop('popularity', axis=1)"
   ]
  },
  {
   "cell_type": "markdown",
   "id": "867e7c01",
   "metadata": {},
   "source": [
    "StandardScaling using because values of mean all over the places "
   ]
  },
  {
   "cell_type": "code",
   "execution_count": 5,
   "id": "2932eb61",
   "metadata": {},
   "outputs": [],
   "source": [
    "scaler = StandardScaler()\n",
    "\n",
    "X = scaler.fit_transform(X)\n",
    "#scaler.fit(X_train)\n",
    "#X_train= pd.DataFrame(scaler.transform(X_train), index=X_train.index, columns=X_train.columns)\n",
    "#\n",
    "#scaler.fit(X_test)\n",
    "#X_test= pd.DataFrame(scaler.transform(X_test), index=X_test.index, columns=X_test.columns)"
   ]
  },
  {
   "cell_type": "code",
   "execution_count": 6,
   "id": "04dec7fc",
   "metadata": {},
   "outputs": [
    {
     "name": "stdout",
     "output_type": "stream",
     "text": [
      "(1980, 1590) (1320, 1590)\n"
     ]
    }
   ],
   "source": [
    "X_train, X_test, y_train, y_test = train_test_split(X, y, test_size=0.4, random_state=10)\n",
    "print(X_train.shape, X_test.shape)"
   ]
  },
  {
   "cell_type": "code",
   "execution_count": 7,
   "id": "11f4fd89",
   "metadata": {
    "scrolled": true
   },
   "outputs": [
    {
     "data": {
      "text/plain": [
       "array([[-0.71869045,  0.42954127, -0.45891807, ..., -0.0174104 ,\n",
       "        -0.0174104 , -0.0174104 ],\n",
       "       [ 1.07127547, -1.9086915 , -0.66548106, ..., -0.0174104 ,\n",
       "        -0.0174104 , -0.0174104 ],\n",
       "       [-0.04718892, -0.37146543, -0.79621058, ..., -0.0174104 ,\n",
       "        -0.0174104 , -0.0174104 ],\n",
       "       ...,\n",
       "       [ 0.79520155,  0.21162033, -0.40513835, ..., -0.0174104 ,\n",
       "        -0.0174104 , -0.0174104 ],\n",
       "       [-0.71128197,  1.77240543,  0.10576893, ..., -0.0174104 ,\n",
       "        -0.0174104 , -0.0174104 ],\n",
       "       [ 0.37302624,  1.28944551, -0.75103969, ..., -0.0174104 ,\n",
       "        -0.0174104 , -0.0174104 ]])"
      ]
     },
     "execution_count": 7,
     "metadata": {},
     "output_type": "execute_result"
    }
   ],
   "source": [
    "X_train"
   ]
  },
  {
   "cell_type": "code",
   "execution_count": 8,
   "id": "32c330a1",
   "metadata": {
    "scrolled": true
   },
   "outputs": [
    {
     "data": {
      "text/plain": [
       "133     4\n",
       "544     2\n",
       "962     1\n",
       "463     1\n",
       "247     1\n",
       "       ..\n",
       "3195    1\n",
       "1344    1\n",
       "527     4\n",
       "3197    2\n",
       "1289    2\n",
       "Name: popularity, Length: 1980, dtype: int64"
      ]
     },
     "execution_count": 8,
     "metadata": {},
     "output_type": "execute_result"
    }
   ],
   "source": [
    "y_train"
   ]
  },
  {
   "cell_type": "code",
   "execution_count": 9,
   "id": "d98293a7",
   "metadata": {
    "scrolled": true
   },
   "outputs": [
    {
     "data": {
      "text/plain": [
       "-7.795999877650686e-05"
      ]
     },
     "execution_count": 9,
     "metadata": {},
     "output_type": "execute_result"
    }
   ],
   "source": [
    "X_train.mean()"
   ]
  },
  {
   "cell_type": "code",
   "execution_count": 10,
   "id": "80340d3d",
   "metadata": {},
   "outputs": [
    {
     "data": {
      "text/plain": [
       "0.9930627833612602"
      ]
     },
     "execution_count": 10,
     "metadata": {},
     "output_type": "execute_result"
    }
   ],
   "source": [
    "X_train.var()"
   ]
  },
  {
   "cell_type": "code",
   "execution_count": 11,
   "id": "cf6f3957",
   "metadata": {},
   "outputs": [],
   "source": [
    "#scaler = StandardScaler()\n",
    "#scaler.fit(X_train)\n",
    "#X_train= pd.DataFrame(scaler.transform(X_train), index=X_train.index, columns=X_train.columns)\n",
    "\n",
    "#scaler.fit(X_test)\n",
    "#X_test= pd.DataFrame(scaler.transform(X_test), index=X_test.index, columns=X_test.columns)\n",
    "\n",
    "#X = MinMaxScaler().fit_transform(X)\n",
    "#X_train = MinMaxScaler().fit_transform(X_train)\n",
    "#X_test = MinMaxScaler().fit_transform(X_test)\n",
    "#X = scaler.fit_transform(X)"
   ]
  },
  {
   "cell_type": "markdown",
   "id": "930f7757",
   "metadata": {},
   "source": [
    "# Modeling and Training"
   ]
  },
  {
   "cell_type": "code",
   "execution_count": 12,
   "id": "acf8dfe2",
   "metadata": {},
   "outputs": [],
   "source": [
    "#setup folder where you will save logs for tensorflow \n",
    "root_logdir = os.path.join(os.curdir,\"my_logs_ADS\")\n",
    "\n",
    "def get_run_logdir():\n",
    "    import time\n",
    "    run_id = time.strftime(\"run_%Y_%m_%d-%H_%M_%S\")\n",
    "    return os.path.join(root_logdir, run_id)\n",
    "\n",
    "run_logdir = get_run_logdir()"
   ]
  },
  {
   "cell_type": "code",
   "execution_count": 13,
   "id": "7d8e9159",
   "metadata": {},
   "outputs": [],
   "source": [
    "#create keras Tensorboard callback\n",
    "tensorboard_cb = tf.keras.callbacks.TensorBoard(run_logdir)"
   ]
  },
  {
   "cell_type": "code",
   "execution_count": 14,
   "id": "d45d706a",
   "metadata": {},
   "outputs": [
    {
     "name": "stdout",
     "output_type": "stream",
     "text": [
      "Dummy Accuracy: 0.16893939393939394\n"
     ]
    }
   ],
   "source": [
    "dummy = DummyClassifier(random_state=1)\n",
    "dummy.fit(X_train, y_train)\n",
    "dummypreds = dummy.predict(X_test)\n",
    "\n",
    "print(f\"Dummy Accuracy: {accuracy_score(y_test, dummypreds)}\")"
   ]
  },
  {
   "cell_type": "markdown",
   "id": "d9f97c05",
   "metadata": {},
   "source": [
    "Check different Model performances"
   ]
  },
  {
   "cell_type": "code",
   "execution_count": 15,
   "id": "0354b3fa",
   "metadata": {},
   "outputs": [
    {
     "name": "stderr",
     "output_type": "stream",
     "text": [
      "/home/ec2-user/anaconda3/envs/tensorflow_p36/lib/python3.6/site-packages/sklearn/linear_model/_logistic.py:765: ConvergenceWarning:\n",
      "\n",
      "lbfgs failed to converge (status=1):\n",
      "STOP: TOTAL NO. of ITERATIONS REACHED LIMIT.\n",
      "\n",
      "Increase the number of iterations (max_iter) or scale the data as shown in:\n",
      "    https://scikit-learn.org/stable/modules/preprocessing.html\n",
      "Please also refer to the documentation for alternative solver options:\n",
      "    https://scikit-learn.org/stable/modules/linear_model.html#logistic-regression\n",
      "\n"
     ]
    },
    {
     "name": "stdout",
     "output_type": "stream",
     "text": [
      "Logistic Regression  was trained\n",
      "KNeighborsClassifier  was trained\n",
      "DecisionTreeClassifier  was trained\n"
     ]
    },
    {
     "name": "stderr",
     "output_type": "stream",
     "text": [
      "/home/ec2-user/anaconda3/envs/tensorflow_p36/lib/python3.6/site-packages/sklearn/svm/_base.py:986: ConvergenceWarning:\n",
      "\n",
      "Liblinear failed to converge, increase the number of iterations.\n",
      "\n"
     ]
    },
    {
     "name": "stdout",
     "output_type": "stream",
     "text": [
      "Linear SVC (Support Vector Machine)  was trained\n",
      "Support Vector Machine  was trained\n"
     ]
    },
    {
     "name": "stderr",
     "output_type": "stream",
     "text": [
      "/home/ec2-user/anaconda3/envs/tensorflow_p36/lib/python3.6/site-packages/sklearn/neural_network/_multilayer_perceptron.py:617: ConvergenceWarning:\n",
      "\n",
      "Stochastic Optimizer: Maximum iterations (200) reached and the optimization hasn't converged yet.\n",
      "\n"
     ]
    },
    {
     "name": "stdout",
     "output_type": "stream",
     "text": [
      "Neural Network  was trained\n",
      "Random Forest  was trained\n",
      "Gradient Boosting  was trained\n"
     ]
    }
   ],
   "source": [
    "models = {\n",
    "    \"Logistic Regression\":LogisticRegression(),\n",
    "    \"KNeighborsClassifier\":KNeighborsClassifier(),\n",
    "    \"DecisionTreeClassifier\":DecisionTreeClassifier(),\n",
    "    \"Linear SVC (Support Vector Machine)\":LinearSVC(),\n",
    "    \"Support Vector Machine\":SVC(),\n",
    "    \"Neural Network\":MLPClassifier(),\n",
    "    \"Random Forest\":RandomForestClassifier(),\n",
    "    \"Gradient Boosting\":GradientBoostingClassifier(),\n",
    "    \n",
    "}\n",
    "for name, model in models.items():\n",
    "    model.fit(X_train, y_train)\n",
    "    print(name, \" was trained\")"
   ]
  },
  {
   "cell_type": "code",
   "execution_count": 16,
   "id": "26ce4799",
   "metadata": {
    "scrolled": true
   },
   "outputs": [
    {
     "name": "stdout",
     "output_type": "stream",
     "text": [
      "Logistic Regression: 32.80%\n",
      "KNeighborsClassifier: 27.12%\n",
      "DecisionTreeClassifier: 25.00%\n",
      "Linear SVC (Support Vector Machine): 32.20%\n",
      "Support Vector Machine: 31.97%\n",
      "Neural Network: 32.27%\n",
      "Random Forest: 31.67%\n",
      "Gradient Boosting: 31.97%\n"
     ]
    }
   ],
   "source": [
    "for name, model in models.items():\n",
    "    \n",
    "    print(name + \": {:.2f}%\".format(model.score(X_test, y_test)*100))"
   ]
  },
  {
   "cell_type": "markdown",
   "id": "d2be43a1",
   "metadata": {},
   "source": [
    "## ANN "
   ]
  },
  {
   "cell_type": "code",
   "execution_count": 17,
   "id": "288edfb7",
   "metadata": {},
   "outputs": [],
   "source": [
    "model = Sequential([\n",
    "    Dense(units=8, activation='relu'),\n",
    "    Dense(units=10, activation='relu'),\n",
    "    Dense(5, activation='softmax')\n",
    "])"
   ]
  },
  {
   "cell_type": "code",
   "execution_count": 18,
   "id": "8aabbd73",
   "metadata": {},
   "outputs": [],
   "source": [
    "model.compile(optimizer='adam', loss='sparse_categorical_crossentropy', metrics = ['accuracy'])"
   ]
  },
  {
   "cell_type": "code",
   "execution_count": 19,
   "id": "b1e53e25",
   "metadata": {
    "scrolled": false
   },
   "outputs": [
    {
     "name": "stdout",
     "output_type": "stream",
     "text": [
      "Epoch 1/100\n",
      "124/124 [==============================] - 1s 1ms/step - loss: 1.8097 - accuracy: 0.1869\n",
      "Epoch 2/100\n",
      "124/124 [==============================] - 0s 1ms/step - loss: 1.5601 - accuracy: 0.2818\n",
      "Epoch 3/100\n",
      "124/124 [==============================] - 0s 1ms/step - loss: 1.4399 - accuracy: 0.3540\n",
      "Epoch 4/100\n",
      "124/124 [==============================] - 0s 1ms/step - loss: 1.3359 - accuracy: 0.4278\n",
      "Epoch 5/100\n",
      "124/124 [==============================] - 0s 1ms/step - loss: 1.2311 - accuracy: 0.4874\n",
      "Epoch 6/100\n",
      "124/124 [==============================] - 0s 1ms/step - loss: 1.1320 - accuracy: 0.5293\n",
      "Epoch 7/100\n",
      "124/124 [==============================] - 0s 1ms/step - loss: 1.0444 - accuracy: 0.5545\n",
      "Epoch 8/100\n",
      "124/124 [==============================] - 0s 1ms/step - loss: 0.9725 - accuracy: 0.5859\n",
      "Epoch 9/100\n",
      "124/124 [==============================] - 0s 1ms/step - loss: 0.9219 - accuracy: 0.6030\n",
      "Epoch 10/100\n",
      "124/124 [==============================] - 0s 1ms/step - loss: 0.8789 - accuracy: 0.6212\n",
      "Epoch 11/100\n",
      "124/124 [==============================] - 0s 1ms/step - loss: 0.8456 - accuracy: 0.6298\n",
      "Epoch 12/100\n",
      "124/124 [==============================] - 0s 1ms/step - loss: 0.8197 - accuracy: 0.6404\n",
      "Epoch 13/100\n",
      "124/124 [==============================] - 0s 1ms/step - loss: 0.8001 - accuracy: 0.6490\n",
      "Epoch 14/100\n",
      "124/124 [==============================] - 0s 1ms/step - loss: 0.7791 - accuracy: 0.6566\n",
      "Epoch 15/100\n",
      "124/124 [==============================] - 0s 1ms/step - loss: 0.7691 - accuracy: 0.6621\n",
      "Epoch 16/100\n",
      "124/124 [==============================] - 0s 1ms/step - loss: 0.7539 - accuracy: 0.6672\n",
      "Epoch 17/100\n",
      "124/124 [==============================] - 0s 1ms/step - loss: 0.7368 - accuracy: 0.6732\n",
      "Epoch 18/100\n",
      "124/124 [==============================] - 0s 1ms/step - loss: 0.7226 - accuracy: 0.6697\n",
      "Epoch 19/100\n",
      "124/124 [==============================] - 0s 1ms/step - loss: 0.7107 - accuracy: 0.6783\n",
      "Epoch 20/100\n",
      "124/124 [==============================] - 0s 1ms/step - loss: 0.6961 - accuracy: 0.6869\n",
      "Epoch 21/100\n",
      "124/124 [==============================] - 0s 1ms/step - loss: 0.6876 - accuracy: 0.6889\n",
      "Epoch 22/100\n",
      "124/124 [==============================] - 0s 1ms/step - loss: 0.6757 - accuracy: 0.6965\n",
      "Epoch 23/100\n",
      "124/124 [==============================] - 0s 1ms/step - loss: 0.6674 - accuracy: 0.6960\n",
      "Epoch 24/100\n",
      "124/124 [==============================] - 0s 1ms/step - loss: 0.6584 - accuracy: 0.7051\n",
      "Epoch 25/100\n",
      "124/124 [==============================] - 0s 1ms/step - loss: 0.6504 - accuracy: 0.7061\n",
      "Epoch 26/100\n",
      "124/124 [==============================] - 0s 1ms/step - loss: 0.6439 - accuracy: 0.7106\n",
      "Epoch 27/100\n",
      "124/124 [==============================] - 0s 1ms/step - loss: 0.6347 - accuracy: 0.7202\n",
      "Epoch 28/100\n",
      "124/124 [==============================] - 0s 1ms/step - loss: 0.6287 - accuracy: 0.7121\n",
      "Epoch 29/100\n",
      "124/124 [==============================] - 0s 1ms/step - loss: 0.6228 - accuracy: 0.7202\n",
      "Epoch 30/100\n",
      "124/124 [==============================] - 0s 1ms/step - loss: 0.6175 - accuracy: 0.7263\n",
      "Epoch 31/100\n",
      "124/124 [==============================] - 0s 1ms/step - loss: 0.6117 - accuracy: 0.7293\n",
      "Epoch 32/100\n",
      "124/124 [==============================] - 0s 1ms/step - loss: 0.6076 - accuracy: 0.7343\n",
      "Epoch 33/100\n",
      "124/124 [==============================] - 0s 1ms/step - loss: 0.6012 - accuracy: 0.7333\n",
      "Epoch 34/100\n",
      "124/124 [==============================] - 0s 1ms/step - loss: 0.5951 - accuracy: 0.7399\n",
      "Epoch 35/100\n",
      "124/124 [==============================] - 0s 1ms/step - loss: 0.5880 - accuracy: 0.7434\n",
      "Epoch 36/100\n",
      "124/124 [==============================] - 0s 1ms/step - loss: 0.5835 - accuracy: 0.7389\n",
      "Epoch 37/100\n",
      "124/124 [==============================] - 0s 1ms/step - loss: 0.5787 - accuracy: 0.7444\n",
      "Epoch 38/100\n",
      "124/124 [==============================] - 0s 1ms/step - loss: 0.5723 - accuracy: 0.7434\n",
      "Epoch 39/100\n",
      "124/124 [==============================] - 0s 1ms/step - loss: 0.5675 - accuracy: 0.7505\n",
      "Epoch 40/100\n",
      "124/124 [==============================] - 0s 1ms/step - loss: 0.5631 - accuracy: 0.7687\n",
      "Epoch 41/100\n",
      "124/124 [==============================] - 0s 1ms/step - loss: 0.5557 - accuracy: 0.7793\n",
      "Epoch 42/100\n",
      "124/124 [==============================] - 0s 1ms/step - loss: 0.5485 - accuracy: 0.7828\n",
      "Epoch 43/100\n",
      "124/124 [==============================] - 0s 1ms/step - loss: 0.5449 - accuracy: 0.7823\n",
      "Epoch 44/100\n",
      "124/124 [==============================] - 0s 1ms/step - loss: 0.5406 - accuracy: 0.7828\n",
      "Epoch 45/100\n",
      "124/124 [==============================] - 0s 1ms/step - loss: 0.5375 - accuracy: 0.7788\n",
      "Epoch 46/100\n",
      "124/124 [==============================] - 0s 1ms/step - loss: 0.5328 - accuracy: 0.7843\n",
      "Epoch 47/100\n",
      "124/124 [==============================] - 0s 1ms/step - loss: 0.5269 - accuracy: 0.7848\n",
      "Epoch 48/100\n",
      "124/124 [==============================] - 0s 1ms/step - loss: 0.5247 - accuracy: 0.7874\n",
      "Epoch 49/100\n",
      "124/124 [==============================] - 0s 1ms/step - loss: 0.5178 - accuracy: 0.7939\n",
      "Epoch 50/100\n",
      "124/124 [==============================] - 0s 1ms/step - loss: 0.5134 - accuracy: 0.7980\n",
      "Epoch 51/100\n",
      "124/124 [==============================] - 0s 1ms/step - loss: 0.5130 - accuracy: 0.7919\n",
      "Epoch 52/100\n",
      "124/124 [==============================] - 0s 1ms/step - loss: 0.5054 - accuracy: 0.7985\n",
      "Epoch 53/100\n",
      "124/124 [==============================] - 0s 1ms/step - loss: 0.5035 - accuracy: 0.7995\n",
      "Epoch 54/100\n",
      "124/124 [==============================] - 0s 1ms/step - loss: 0.5018 - accuracy: 0.7944\n",
      "Epoch 55/100\n",
      "124/124 [==============================] - 0s 1ms/step - loss: 0.5015 - accuracy: 0.8015\n",
      "Epoch 56/100\n",
      "124/124 [==============================] - 0s 1ms/step - loss: 0.4958 - accuracy: 0.7965\n",
      "Epoch 57/100\n",
      "124/124 [==============================] - 0s 1ms/step - loss: 0.4904 - accuracy: 0.8015\n",
      "Epoch 58/100\n",
      "124/124 [==============================] - 0s 1ms/step - loss: 0.4861 - accuracy: 0.7995\n",
      "Epoch 59/100\n",
      "124/124 [==============================] - 0s 1ms/step - loss: 0.4854 - accuracy: 0.7995\n",
      "Epoch 60/100\n",
      "124/124 [==============================] - 0s 1ms/step - loss: 0.4792 - accuracy: 0.8076\n",
      "Epoch 61/100\n",
      "124/124 [==============================] - 0s 1ms/step - loss: 0.4787 - accuracy: 0.8081\n",
      "Epoch 62/100\n",
      "124/124 [==============================] - 0s 1ms/step - loss: 0.4735 - accuracy: 0.8086\n",
      "Epoch 63/100\n",
      "124/124 [==============================] - 0s 1ms/step - loss: 0.4728 - accuracy: 0.8116\n",
      "Epoch 64/100\n",
      "124/124 [==============================] - 0s 1ms/step - loss: 0.4689 - accuracy: 0.8076\n",
      "Epoch 65/100\n",
      "124/124 [==============================] - 0s 1ms/step - loss: 0.4704 - accuracy: 0.8126\n",
      "Epoch 66/100\n",
      "124/124 [==============================] - 0s 1ms/step - loss: 0.4642 - accuracy: 0.8086\n",
      "Epoch 67/100\n",
      "124/124 [==============================] - 0s 1ms/step - loss: 0.4613 - accuracy: 0.8066\n",
      "Epoch 68/100\n",
      "124/124 [==============================] - 0s 1ms/step - loss: 0.4598 - accuracy: 0.8096\n",
      "Epoch 69/100\n",
      "124/124 [==============================] - 0s 1ms/step - loss: 0.4566 - accuracy: 0.8121\n",
      "Epoch 70/100\n",
      "124/124 [==============================] - 0s 1ms/step - loss: 0.4519 - accuracy: 0.8111\n",
      "Epoch 71/100\n",
      "124/124 [==============================] - 0s 1ms/step - loss: 0.4480 - accuracy: 0.8162\n",
      "Epoch 72/100\n",
      "124/124 [==============================] - 0s 1ms/step - loss: 0.4484 - accuracy: 0.8091\n",
      "Epoch 73/100\n",
      "124/124 [==============================] - 0s 1ms/step - loss: 0.4459 - accuracy: 0.8121\n",
      "Epoch 74/100\n",
      "124/124 [==============================] - 0s 1ms/step - loss: 0.4427 - accuracy: 0.8162\n",
      "Epoch 75/100\n",
      "124/124 [==============================] - 0s 1ms/step - loss: 0.4433 - accuracy: 0.8162\n",
      "Epoch 76/100\n",
      "124/124 [==============================] - 0s 1ms/step - loss: 0.4391 - accuracy: 0.8177\n",
      "Epoch 77/100\n",
      "124/124 [==============================] - 0s 1ms/step - loss: 0.4381 - accuracy: 0.8242\n",
      "Epoch 78/100\n",
      "124/124 [==============================] - 0s 1ms/step - loss: 0.4400 - accuracy: 0.8217\n",
      "Epoch 79/100\n",
      "124/124 [==============================] - 0s 1ms/step - loss: 0.4334 - accuracy: 0.8187\n",
      "Epoch 80/100\n",
      "124/124 [==============================] - 0s 1ms/step - loss: 0.4350 - accuracy: 0.8217\n",
      "Epoch 81/100\n",
      "124/124 [==============================] - 0s 1ms/step - loss: 0.4294 - accuracy: 0.8253\n",
      "Epoch 82/100\n",
      "124/124 [==============================] - 0s 1ms/step - loss: 0.4280 - accuracy: 0.8247\n",
      "Epoch 83/100\n",
      "124/124 [==============================] - 0s 1ms/step - loss: 0.4284 - accuracy: 0.8197\n",
      "Epoch 84/100\n",
      "124/124 [==============================] - 0s 1ms/step - loss: 0.4249 - accuracy: 0.8318\n",
      "Epoch 85/100\n",
      "124/124 [==============================] - 0s 1ms/step - loss: 0.4250 - accuracy: 0.8202\n",
      "Epoch 86/100\n",
      "124/124 [==============================] - 0s 1ms/step - loss: 0.4245 - accuracy: 0.8247\n",
      "Epoch 87/100\n",
      "124/124 [==============================] - 0s 1ms/step - loss: 0.4223 - accuracy: 0.8318\n",
      "Epoch 88/100\n",
      "124/124 [==============================] - 0s 1ms/step - loss: 0.4209 - accuracy: 0.8253\n",
      "Epoch 89/100\n",
      "124/124 [==============================] - 0s 1ms/step - loss: 0.4188 - accuracy: 0.8273\n",
      "Epoch 90/100\n",
      "124/124 [==============================] - 0s 1ms/step - loss: 0.4191 - accuracy: 0.8303\n",
      "Epoch 91/100\n",
      "124/124 [==============================] - 0s 1ms/step - loss: 0.4164 - accuracy: 0.8288\n",
      "Epoch 92/100\n",
      "124/124 [==============================] - 0s 1ms/step - loss: 0.4162 - accuracy: 0.8303\n",
      "Epoch 93/100\n",
      "124/124 [==============================] - 0s 1ms/step - loss: 0.4126 - accuracy: 0.8333\n",
      "Epoch 94/100\n",
      "124/124 [==============================] - 0s 1ms/step - loss: 0.4134 - accuracy: 0.8318\n",
      "Epoch 95/100\n",
      "124/124 [==============================] - 0s 1ms/step - loss: 0.4160 - accuracy: 0.8303\n",
      "Epoch 96/100\n",
      "124/124 [==============================] - 0s 1ms/step - loss: 0.4105 - accuracy: 0.8328\n",
      "Epoch 97/100\n",
      "124/124 [==============================] - 0s 1ms/step - loss: 0.4114 - accuracy: 0.8303\n",
      "Epoch 98/100\n",
      "124/124 [==============================] - 0s 1ms/step - loss: 0.4059 - accuracy: 0.8308\n",
      "Epoch 99/100\n",
      "124/124 [==============================] - 0s 1ms/step - loss: 0.4043 - accuracy: 0.8379\n",
      "Epoch 100/100\n",
      "124/124 [==============================] - 0s 1ms/step - loss: 0.4069 - accuracy: 0.8364\n"
     ]
    }
   ],
   "source": [
    "history = model.fit(X_train, y_train, batch_size = 16, epochs = 100, callbacks=[tensorboard_cb])"
   ]
  },
  {
   "cell_type": "code",
   "execution_count": 20,
   "id": "c4647b0c",
   "metadata": {
    "scrolled": true
   },
   "outputs": [
    {
     "name": "stdout",
     "output_type": "stream",
     "text": [
      "Model: \"sequential\"\n",
      "_________________________________________________________________\n",
      "Layer (type)                 Output Shape              Param #   \n",
      "=================================================================\n",
      "dense (Dense)                (None, 8)                 12728     \n",
      "_________________________________________________________________\n",
      "dense_1 (Dense)              (None, 10)                90        \n",
      "_________________________________________________________________\n",
      "dense_2 (Dense)              (None, 5)                 55        \n",
      "=================================================================\n",
      "Total params: 12,873\n",
      "Trainable params: 12,873\n",
      "Non-trainable params: 0\n",
      "_________________________________________________________________\n"
     ]
    }
   ],
   "source": [
    "model.summary()"
   ]
  },
  {
   "cell_type": "code",
   "execution_count": 21,
   "id": "236d0769",
   "metadata": {},
   "outputs": [
    {
     "data": {
      "image/png": "[encoded data removed]",
      "text/plain": [
       "<Figure size 576x576 with 2 Axes>"
      ]
     },
     "metadata": {
      "needs_background": "light"
     },
     "output_type": "display_data"
    }
   ],
   "source": [
    "acc = history.history['accuracy']\n",
    "\n",
    "loss = history.history['loss']\n",
    "\n",
    "plt.figure(figsize=(8, 8))\n",
    "plt.subplot(2,1,1)\n",
    "plt.plot(acc, label='Training Accuracy')\n",
    "plt.legend(loc='lower right')\n",
    "plt.ylabel('Accuracy')\n",
    "plt.title('Training and Validation Accuracy')\n",
    "\n",
    "plt.subplot(2,1,2)\n",
    "plt.plot(loss, label='Training Loss')\n",
    "plt.legend(loc='upper right')\n",
    "plt.ylabel('Cross Entropy')\n",
    "plt.title('Training and Validation Loss')\n",
    "plt.xlabel('epoch')\n",
    "plt.show()"
   ]
  },
  {
   "cell_type": "code",
   "execution_count": 22,
   "id": "266db4e0",
   "metadata": {},
   "outputs": [
    {
     "name": "stdout",
     "output_type": "stream",
     "text": [
      "42/42 - 0s - loss: 4.3442 - accuracy: 0.2848\n",
      "\n",
      "Test accuracy= 0.28484848141670227\n",
      "\n",
      "Test loss= 4.344178199768066\n"
     ]
    }
   ],
   "source": [
    "test_loss, test_acc = model.evaluate(X_test,y_test, verbose=2)\n",
    "print('\\nTest accuracy=', test_acc)\n",
    "print('\\nTest loss=', test_loss)"
   ]
  },
  {
   "cell_type": "code",
   "execution_count": 23,
   "id": "d1ee7845",
   "metadata": {},
   "outputs": [
    {
     "data": {
      "text/plain": [
       "array([[-0.62897067,  0.54733637, -0.79758359, ..., -0.0174104 ,\n",
       "        -0.0174104 , -0.0174104 ],\n",
       "       [ 5.02144607, -1.56708571, -0.77654432, ..., -0.0174104 ,\n",
       "        -0.0174104 , -0.0174104 ],\n",
       "       [-0.97304826, -0.19477277,  1.06728502, ..., -0.0174104 ,\n",
       "        -0.0174104 , -0.0174104 ],\n",
       "       ...,\n",
       "       [-0.85060769,  0.11738425, -0.64551738, ..., -0.0174104 ,\n",
       "        -0.0174104 , -0.0174104 ],\n",
       "       [-0.19495722,  0.40598225, -0.33424691, ..., -0.0174104 ,\n",
       "        -0.0174104 , -0.0174104 ],\n",
       "       [ 1.24393935,  0.44721053, -0.64877675, ..., -0.0174104 ,\n",
       "        -0.0174104 , -0.0174104 ]])"
      ]
     },
     "execution_count": 23,
     "metadata": {},
     "output_type": "execute_result"
    }
   ],
   "source": [
    "X_test"
   ]
  },
  {
   "cell_type": "code",
   "execution_count": 24,
   "id": "518b75bf",
   "metadata": {},
   "outputs": [
    {
     "name": "stdout",
     "output_type": "stream",
     "text": [
      "[[7.1543184e-24 9.9520564e-01 4.7943136e-03 1.3724550e-08 7.5172970e-08]\n",
      " [9.9960977e-01 3.8909438e-04 1.1428275e-06 5.2164534e-08 1.4720083e-08]\n",
      " [5.2668462e-03 1.1634342e-01 5.1163483e-01 2.8772792e-01 7.9026915e-02]\n",
      " ...\n",
      " [2.1107239e-04 3.5560128e-01 2.9976511e-01 2.0271050e-02 3.2415149e-01]\n",
      " [1.2301496e-01 1.5954617e-02 9.6179716e-02 2.2155873e-01 5.4329193e-01]\n",
      " [3.0048531e-02 3.0658614e-02 6.7006564e-03 9.3200397e-01 5.8817398e-04]]\n"
     ]
    }
   ],
   "source": [
    "# Predicting the Test set results\n",
    "predictions = model.predict(X_test)\n",
    "print(predictions)"
   ]
  },
  {
   "cell_type": "code",
   "execution_count": 25,
   "id": "6631e245",
   "metadata": {
    "scrolled": true
   },
   "outputs": [
    {
     "data": {
      "text/plain": [
       "array([7.1543184e-24, 9.9520564e-01, 4.7943136e-03, 1.3724550e-08,\n",
       "       7.5172970e-08], dtype=float32)"
      ]
     },
     "execution_count": 25,
     "metadata": {},
     "output_type": "execute_result"
    }
   ],
   "source": [
    "predictions[0]"
   ]
  },
  {
   "cell_type": "code",
   "execution_count": 26,
   "id": "134b0b02",
   "metadata": {
    "scrolled": true
   },
   "outputs": [
    {
     "name": "stdout",
     "output_type": "stream",
     "text": [
      "[1 0 2 1 2]\n",
      "2503    1\n",
      "1467    0\n",
      "51      2\n",
      "2648    0\n",
      "1249    2\n",
      "       ..\n",
      "760     0\n",
      "1426    0\n",
      "65      1\n",
      "476     1\n",
      "243     2\n",
      "Name: popularity, Length: 1320, dtype: int64\n"
     ]
    }
   ],
   "source": [
    "pred = np.argmax(predictions, axis = 1)[:5]\n",
    "print(pred)\n",
    "print(y_test)"
   ]
  },
  {
   "cell_type": "code",
   "execution_count": 27,
   "id": "6e866f0e",
   "metadata": {
    "scrolled": true
   },
   "outputs": [],
   "source": [
    "#label = np.argmax(y_test, axis = 1)[:5]\n",
    "#print(label)"
   ]
  },
  {
   "cell_type": "code",
   "execution_count": 28,
   "id": "280c8a0d",
   "metadata": {},
   "outputs": [],
   "source": [
    "model.save('hitpredictionmodel.h5')"
   ]
  },
  {
   "cell_type": "code",
   "execution_count": 29,
   "id": "ea03a355",
   "metadata": {},
   "outputs": [],
   "source": [
    "# TensorBoard"
   ]
  },
  {
   "cell_type": "code",
   "execution_count": 30,
   "id": "ad9f3ef0",
   "metadata": {},
   "outputs": [
    {
     "data": {
      "text/html": [
       "\n",
       "      <iframe id=\"tensorboard-frame-68b0db8cd86580fe\" width=\"100%\" height=\"800\" frameborder=\"0\">\n",
       "      </iframe>\n",
       "      <script>\n",
       "        (function() {\n",
       "          const frame = document.getElementById(\"tensorboard-frame-68b0db8cd86580fe\");\n",
       "          const url = new URL(\"/\", window.location);\n",
       "          const port = 6006;\n",
       "          if (port) {\n",
       "            url.port = port;\n",
       "          }\n",
       "          frame.src = url;\n",
       "        })();\n",
       "      </script>\n",
       "    "
      ],
      "text/plain": [
       "<IPython.core.display.HTML object>"
      ]
     },
     "metadata": {},
     "output_type": "display_data"
    }
   ],
   "source": [
    "%load_ext tensorboard\n",
    "%tensorboard --logdir my_logs_ADS"
   ]
  }
 ],
 "metadata": {
  "kernelspec": {
   "display_name": "conda_tensorflow_p36",
   "language": "python",
   "name": "conda_tensorflow_p36"
  },
  "language_info": {
   "codemirror_mode": {
    "name": "ipython",
    "version": 3
   },
   "file_extension": ".py",
   "mimetype": "text/x-python",
   "name": "python",
   "nbconvert_exporter": "python",
   "pygments_lexer": "ipython3",
   "version": "3.6.13"
  }
 },
 "nbformat": 4,
 "nbformat_minor": 5
}
